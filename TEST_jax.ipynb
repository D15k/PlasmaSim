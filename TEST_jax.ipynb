{
 "cells": [
  {
   "cell_type": "code",
   "execution_count": null,
   "metadata": {},
   "outputs": [
    {
     "name": "stdout",
     "output_type": "stream",
     "text": [
      "<module 'params.PARAMS_ion_acoustic_waves' from 'c:\\\\Users\\\\Clément\\\\Documents\\\\M2 Physique Fondamentale & Applications - Univers & Particules\\\\Internship\\\\Code_Python\\\\plasma-sim\\\\plasma-sim-main\\\\python\\\\params\\\\PARAMS_ion_acoustic_waves.py'>\n",
      "12.566370614359172\n",
      "<module 'params.PARAMS_ion_acoustic_waves' from 'c:\\\\Users\\\\Clément\\\\Documents\\\\M2 Physique Fondamentale & Applications - Univers & Particules\\\\Internship\\\\Code_Python\\\\plasma-sim\\\\plasma-sim-main\\\\python\\\\params\\\\PARAMS_ion_acoustic_waves.py'>\n",
      "10\n"
     ]
    }
   ],
   "source": [
    "import jax.numpy as jnp\n",
    "import jax\n",
    "import params.PARAMS_ion_acoustic_waves as params\n",
    "\n",
    "def test():\n",
    "    print(params)\n",
    "    print(params.Lx)\n",
    "    params.truc = 10\n",
    "    return params\n",
    "\n",
    "print(test())\n",
    "print(params.truc)"
   ]
  }
 ],
 "metadata": {
  "kernelspec": {
   "display_name": "Python 3",
   "language": "python",
   "name": "python3"
  },
  "language_info": {
   "codemirror_mode": {
    "name": "ipython",
    "version": 3
   },
   "file_extension": ".py",
   "mimetype": "text/x-python",
   "name": "python",
   "nbconvert_exporter": "python",
   "pygments_lexer": "ipython3",
   "version": "3.11.9"
  }
 },
 "nbformat": 4,
 "nbformat_minor": 2
}
